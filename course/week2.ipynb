{
  "cells": [
    {
      "attachments": {},
      "cell_type": "markdown",
      "metadata": {},
      "source": [
        "# Week 2: Data Types and Variables\n",
        "\n",
        "**Lesson:** Basic data types (strings, integers, floats, booleans), defining and using variables.\n",
        "\n",
        "**Activity Ideas:**\n",
        "1. Character Creator: Create simple character profiles for a Dungeons & Dragons game using strings, integers and booleans.\n",
        "2. Game Score: Create a Super Smash Bros. scoreboard with player names and scores using strings and integers.\n",
        "3. Item Shop: Create an item shop inventory list with item names, prices, and availability using strings, integers, and booleans.\n",
        "4. Gamer Profile: Make a basic gamer profile with a username, level, and status using strings, integers and booleans.\n",
        "5. Game Night Planner: Create a list of games to play, number of players, and player availability using strings, integers and booleans.\n",
        "\n",
        "## Activity: Character Creator\n",
        "\n",
        "In this activity, you will create simple character profiles for a Dungeons & Dragons game using strings, integers, and booleans.\n",
        "\n",
        "```python\n",
        "# Character Creator\n",
        "# Create a character profile for a Dungeons & Dragons game\n",
        "\n",
        "# Ask the user for character details\n",
        "name = input(\"Enter the character's name: \")\n",
        "race = input(\"Enter the character's race: \")\n",
        "class_type = input(\"Enter the character's class: \")\n",
        "level = int(input(\"Enter the character's level: \"))\n",
        "is_alive = input(\"Is the character alive? (yes/no): \").lower() == \"yes\"\n",
        "\n",
        "# Print the character profile\n",
        "print(\"\\nCharacter Profile:\")\n",
        "print(f\"Name: {name}\")\n",
        "print(f\"Race: {race}\")\n",
        "print(f\"Class: {class_type}\")\n",
        "print(f\"Level: {level}\")\n",
        "print(f\"Is Alive: {is_alive}\")\n",
        "```"
      ]
    }
  ],
  "metadata": {
    "kernelspec": {
      "display_name": "Python 3",
      "language": "python",
      "name": "python3"
    },
    "language_info": {
      "codemirror_mode": {
        "name": "ipython",
        "version": 3
      },
      "file_extension": ".py",
      "mimetype": "text/x-python",
      "name": "python",
      "nbconvert_exporter": "python",
      "pygments_lexer": "ipython3",
      "version": "3.7.11"
    }
  },
  "nbformat": 4,
  "nbformat_minor": 5
}
