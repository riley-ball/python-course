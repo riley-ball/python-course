{
  "cells": [
    {
      "attachments": {},
      "cell_type": "markdown",
      "metadata": {},
      "source": [
        "# Week 11: Modules and Libraries\n",
        "\n",
        "**Lesson:** Introduction to Python's standard library, creating and using custom modules, using external libraries\n",
        "\n",
        "### Activity Ideas:\n",
        "1. Create a simple Dungeons & Dragons character generator using the `random` module, focusing on creating random ability scores and character names.\n",
        "2. Explore the Super Smash Bros. API (https://github.com/alaingilbert/super-smash-bros-api), using external libraries like `requests` to access character data and display it in a beginner-friendly manner.\n",
        "3. Utilize the `os` library to create a quiz game with questions and answers stored in separate text files within a folder, based on popular video games.\n",
        "4. Create a basic randomizer for button combinations in Super Smash Bros. to practice specific moves or combos, using custom modules to separate the move list and randomizer logic.\n",
        "5. Build a simple ASCII-based dungeon exploration game using a custom module for generating random dungeon layouts, incorporating Python's standard library functions for more advanced features.\n",
        "\n",
        "## Activity: Dungeons & Dragons Character Generator\n",
        "\n",
        "In this activity, you will create a simple Dungeons & Dragons character generator using the `random` module. The generator will focus on creating random ability scores and character names.\n",
        "\n",
        "```python\n",
        "# Dungeons & Dragons Character Generator\n",
        "\n",
        "import random\n",
        "\n",
        "# Ability Scores\n",
        "strength = random.randint(1, 20)\n",
        "dexterity = random.randint(1, 20)\n",
        "constitution = random.randint(1, 20)\n",
        "intelligence = random.randint(1, 20)\n",
        "wisdom = random.randint(1, 20)\n",
        "charisma = random.randint(1, 20)\n",
        "\n",
        "# Character Names\n",
        "first_names = [\"Gandalf\", \"Frodo\", \"Legolas\", \"Aragorn\", \"Gimli\"]\n",
        "last_names = [\"Firebeard\", \"Shadowbane\", \"Ironfoot\", \"Swiftwind\", \"Silvermoon\"]\n",
        "first_name = random.choice(first_names)\n",
        "last_name = random.choice(last_names)\n",
        "\n",
        "# Print Character Details\n",
        "print(\"Dungeons & Dragons Character Generator\")\n",
        "print(\"--------------------------------------\")\n",
        "print(f\"Name: {first_name} {last_name}\")\n",
        "print(\"Ability Scores:\")\n",
        "print(f\"Strength: {strength}\")\n",
        "print(f\"Dexterity: {dexterity}\")\n",
        "print(f\"Constitution: {constitution}\")\n",
        "print(f\"Intelligence: {intelligence}\")\n",
        "print(f\"Wisdom: {wisdom}\")\n",
        "print(f\"Charisma: {charisma}\")\n",
        "```"
      ]
    },
    {
      "attachments": {},
      "cell_type": "markdown",
      "id": "6cdc04f0",
      "metadata": {},
      "source": []
    }
  ],
  "metadata": {
    "kernelspec": {
      "display_name": "Python 3",
      "language": "python",
      "name": "python3"
    },
    "language_info": {
      "codemirror_mode": {
        "name": "ipython",
        "version": 3
      },
      "file_extension": ".py",
      "mimetype": "text/x-python",
      "name": "python",
      "nbconvert_exporter": "python",
      "pygments_lexer": "ipython3",
      "version": "3.7.11"
    }
  },
  "nbformat": 4,
  "nbformat_minor": 5
}
