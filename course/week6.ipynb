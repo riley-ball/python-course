{
  "cells": [
    {
      "attachments": {},
      "cell_type": "markdown",
      "metadata": {},
      "source": [
        "# Week 6: File Handling\n",
        "\n",
        "**Lesson:** Reading and writing files, file modes, working with paths.\n",
        "\n",
        "### Activity Ideas:\n",
        "1. Create a simple text-based Dungeon Master's Toolkit that allows the user to save and load their campaign notes to a text file. Practice using file modes and handling paths.\n",
        "2. Write a Super Smash Bros. Character Randomizer that reads a list of characters from a text file and selects a random character for each player. Practice reading files and manipulating data.\n",
        "3. Design a simple \"Choose Your Adventure\" game with a gamer theme, and store each choice and outcome in a separate text file. Practice reading and writing files based on user choices.\n",
        "4. Build a Gamer Quiz that reads questions and answers from a text file and allows users to answer the questions. Keep track of the score and store it in a separate file.\n",
        "5. Create a basic character creation tool for a tabletop RPG like Dungeons & Dragons, and export the generated character stats to a formatted text file. Practice file writing and organization.\n",
        "\n",
        "## Activity: Dungeon Master's Toolkit\n",
        "\n",
        "In this activity, you will create a simple text-based Dungeon Master's Toolkit that allows the user to save and load their campaign notes to a text file. You will practice reading and writing files, using different file modes, and working with file paths.\n",
        "\n",
        "```python\n",
        "# Dungeon Master's Toolkit\n",
        "# A simple text-based tool for Dungeon Masters to save and load campaign notes\n",
        "\n",
        "def save_notes(notes):\n",
        "    file_name = input(\"Enter the file name to save the notes: \")\n",
        "    try:\n",
        "        with open(file_name, \"w\") as file:\n",
        "            file.write(notes)\n",
        "        print(f\"Notes saved to '{file_name}' successfully!\")\n",
        "    except IOError:\n",
        "        print(\"Error saving notes. Please try again.\")\n",
        "\n",
        "def load_notes():\n",
        "    file_name = input(\"Enter the file name to load the notes: \")\n",
        "    try:\n",
        "        with open(file_name, \"r\") as file:\n",
        "            notes = file.read()\n",
        "        print(\"Loaded Notes:\")\n",
        "        print(notes)\n",
        "    except FileNotFoundError:\n",
        "        print(\"File not found. Please make sure the file exists.\")\n",
        "\n",
        "# Other function definitions and toolkit logic go here...\n",
        "\n",
        "# Usage example\n",
        "campaign_notes = input(\"Enter your campaign notes: \")\n",
        "\n",
        "save_or_load = input(\"Do you want to save or load the notes? (save/load): \")\n",
        "\n",
        "if save_or_load.lower() == \"save\":\n",
        "    save_notes(campaign_notes)\n",
        "elif save_or_load.lower() == \"load\":\n",
        "    load_notes()\n",
        "else:\n",
        "    print(\"Invalid choice. Please try again.\")\n",
        "```"
      ]
    }
  ],
  "metadata": {
    "kernelspec": {
      "display_name": "Python 3",
      "language": "python",
      "name": "python3"
    },
    "language_info": {
      "codemirror_mode": {
        "name": "ipython",
        "version": 3
      },
      "file_extension": ".py",
      "mimetype": "text/x-python",
      "name": "python",
      "nbconvert_exporter": "python",
      "pygments_lexer": "ipython3",
      "version": "3.7.11"
    }
  },
  "nbformat": 4,
  "nbformat_minor": 5
}
