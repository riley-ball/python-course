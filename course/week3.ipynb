{
  "cells": [
    {
      "attachments": {},
      "cell_type": "markdown",
      "metadata": {},
      "source": [
        "# Week 3: Conditional Statements and Loops\n",
        "\n",
        "**Lesson:** Comparison operators, if-elif-else statements, basic loops (for and while)\n",
        "\n",
        "### Activity Ideas:\n",
        "1. Create a simple character selection code in a Dungeons & Dragons-themed text-based game. Players can choose between three basic classes, using input() and a conditional statement to fine-tune their choice.\n",
        "2. Design a basic text-based game where the player can input simple commands like \"move left\" or \"move right.\" Use if-elif-else statements to respond to the commands and create a basic loop to keep the game going until the player types \"quit.\"\n",
        "3. Organize a Super Smash Bros. character tournament bracket by creating a list of characters. Use a for loop to print out a numbered list of all the characters in the bracket and a while loop to simulate matches and update the bracket accordingly.\n",
        "4. Create a basic gamer-themed quiz where players can answer questions about various games (e.g., Dungeons & Dragons, Super Smash Bros., etc.). Use if-elif-else statements to check answers and a loop to repeat the quiz until the player decides to quit.\n",
        "5. Develop a simple text-based guessing game where the player must guess a specific video game character. Use comparison operators and if-elif-else statements to provide hints, and implement a while loop for multiple guesses until the correct character is identified.\n",
        "\n",
        "## Activity: Character Selection Code\n",
        "\n",
        "In this activity, you will create a simple character selection code for a Dungeons & Dragons-themed text-based game. Players can choose between three basic classes, and the code will use input() and conditional statements to fine-tune their choice.\n",
        "\n",
        "```python\n",
        "# Character Selection Code\n",
        "# Create a character selection code for a text-based game\n",
        "\n",
        "# Display class options\n",
        "print(\"Choose your character class:\")\n",
        "print(\"1. Warrior\")\n",
        "print(\"2. Mage\")\n",
        "print(\"3. Rogue\")\n",
        "\n",
        "# Ask the player for their choice\n",
        "choice = input(\"Enter the number of your chosen class: \")\n",
        "\n",
        "# Assign the appropriate class based on the player's choice\n",
        "if choice == \"1\":\n",
        "    character_class = \"Warrior\"\n",
        "elif choice == \"2\":\n",
        "    character_class = \"Mage\"\n",
        "elif choice == \"3\":\n",
        "    character_class = \"Rogue\"\n",
        "else:\n",
        "    character_class = \"Unknown\"\n",
        "\n",
        "# Print the chosen character class\n",
        "print(f\"Selected character class: {character_class}\")\n",
        "```"
      ]
    }
  ],
  "metadata": {
    "kernelspec": {
      "display_name": "Python 3",
      "language": "python",
      "name": "python3"
    },
    "language_info": {
      "codemirror_mode": {
        "name": "ipython",
        "version": 3
      },
      "file_extension": ".py",
      "mimetype": "text/x-python",
      "name": "python",
      "nbconvert_exporter": "python",
      "pygments_lexer": "ipython3",
      "version": "3.7.11"
    }
  },
  "nbformat": 4,
  "nbformat_minor": 5
}
