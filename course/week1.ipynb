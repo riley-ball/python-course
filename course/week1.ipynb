{
  "cells": [
    {
      "attachments": {},
      "cell_type": "markdown",
      "metadata": {},
      "source": [
        "# Week 1: Introduction to Python\n",
        "\n",
        "**Lesson:** Introduction to Python and its history, installing Python and setting up the development environment.\n",
        "\n",
        "### Activity Ideas:\n",
        "1. Create a simple \"Hello, World!\" program in Python with a Dungeons & Dragons theme, such as printing a welcome message to a new adventurer.\n",
        "2. Build a basic character generator for Super Smash Bros. by asking the user to input their preferred character and printing out a message about that character.\n",
        "3. Write a Python script that rolls different types of dice (d4, d6, d8, d10, d12, d20) commonly used in Dungeons & Dragons and displays the result.\n",
        "4. Create a basic gamer quiz by prompting the user to answer a series of easy questions related to video games, Dungeons & Dragons, or Super Smash Bros. and printing a final score.\n",
        "5. Write a Python script that allows users to input and display their favorite Dungeons & Dragons character class, race, and background.\n",
        "\n",
        "## Activity: \"Hello, World!\" Program\n",
        "\n",
        "In this activity, you will create a simple \"Hello, World!\" program in Python with a Dungeons & Dragons theme.\n",
        "\n",
        "```python\n",
        "# Hello, World! Program\n",
        "# Print a welcome message to a new adventurer in the world of Dungeons & Dragons\n",
        "\n",
        "print(\"Welcome, brave adventurer!\")\n",
        "print(\"Prepare yourself for an epic journey filled with mystical creatures, treacherous dungeons, and exciting quests!\")\n",
        "```"
      ]
    }
  ],
  "metadata": {
    "kernelspec": {
      "display_name": "Python 3",
      "language": "python",
      "name": "python3"
    },
    "language_info": {
      "codemirror_mode": {
        "name": "ipython",
        "version": 3
      },
      "file_extension": ".py",
      "mimetype": "text/x-python",
      "name": "python",
      "nbconvert_exporter": "python",
      "pygments_lexer": "ipython3",
      "version": "3.7.11"
    }
  },
  "nbformat": 4,
  "nbformat_minor": 5
}
