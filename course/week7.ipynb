{
  "cells": [
    {
      "attachments": {},
      "cell_type": "markdown",
      "metadata": {},
      "source": [
        "# Week 7: Exceptions and Error Handling\n",
        "\n",
        "**Lesson:** Understanding different types of errors, exception handling (try, except, else, finally)\n",
        "\n",
        "### Activity Ideas:\n",
        "1. Create a simple Dungeons & Dragons health deduction program, handling errors in case a non-numeric input for health is entered.\n",
        "2. Make a simple text-based Super Smash Bros. attack damage calculator and use exception handling to deal with unexpected inputs.\n",
        "3. Program a \"Guess-the-number\" game limited to three tries, use exception handling to handle wrong input types and display a proper error message.\n",
        "4. Create a gamer-themed quiz and implement error handling to handle if a user inputs an option outside of the given choices.\n",
        "5. Use exception handling to create a basic character attribute assignment program for a role-playing game that does not allow negative attribute points.\n",
        "\n",
        "## Activity: Dungeons & Dragons Health Deduction Program\n",
        "\n",
        "In this activity, you will create a simple Dungeons & Dragons health deduction program. You will handle errors in case a non-numeric input for health is entered, ensuring the program does not crash.\n",
        "\n",
        "```python\n",
        "# Dungeons & Dragons Health Deduction Program\n",
        "\n",
        "def deduct_health(health, damage):\n",
        "    try:\n",
        "        health = int(health)\n",
        "        damage = int(damage)\n",
        "        if health < damage:\n",
        "            print(\"Error: Damage exceeds the remaining health.\")\n",
        "        else:\n",
        "            health -= damage\n",
        "            print(f\"Health deducted. Remaining health: {health}\")\n",
        "    except ValueError:\n",
        "        print(\"Error: Invalid input. Please enter numeric values for health and damage.\")\n",
        "\n",
        "# Usage example\n",
        "player_health = input(\"Enter player's health: \")\n",
        "damage_taken = input(\"Enter damage taken: \")\n",
        "\n",
        "deduct_health(player_health, damage_taken)\n",
        "```"
      ]
    }
  ],
  "metadata": {
    "kernelspec": {
      "display_name": "Python 3",
      "language": "python",
      "name": "python3"
    },
    "language_info": {
      "codemirror_mode": {
        "name": "ipython",
        "version": 3
      },
      "file_extension": ".py",
      "mimetype": "text/x-python",
      "name": "python",
      "nbconvert_exporter": "python",
      "pygments_lexer": "ipython3",
      "version": "3.7.11"
    }
  },
  "nbformat": 4,
  "nbformat_minor": 5
}
