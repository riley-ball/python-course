{
  "cells": [
    {
      "attachments": {},
      "cell_type": "markdown",
      "id": "0aec5d99",
      "metadata": {},
      "source": [
        "# Week 12: Final Project and Wrap-up\n",
        "\n",
        "**Lesson:** Review of the entire course, tips on further learning, Python community resources\n",
        "\n",
        "**Activity: Python Game Adventure**\n",
        "\n",
        "In this final project, you will create a text-based adventure game that incorporates elements from multiple previous activities. The game will involve character creation, turn-based combat, inventory management, and decision-making.\n",
        "\n",
        "Here's a brief overview of the game:\n",
        "\n",
        "1. Character Creation:\n",
        "   - Utilize the Dungeons & Dragons character generator from Week 9 (Activity 1) to create a unique character for the player.\n",
        "   - Prompt the player to input their character's name, race, and class.\n",
        "   - Generate random ability scores for the character using the `random` module (Week 9, Activity 3).\n",
        "\n",
        "2. Turn-Based Combat:\n",
        "   - Implement the turn-based battle system from Week 9 (Activity 2), where the player's character will face various enemies in combat.\n",
        "   - Create a list of enemies with different stats and abilities.\n",
        "   - Allow the player to choose their actions during combat, such as attack, defend, or use special abilities.\n",
        "   - Use conditional statements and loops to simulate the battle, considering the characters' abilities and combat outcomes.\n",
        "\n",
        "3. Inventory Management:\n",
        "   - Build upon the inventory system from Week 6 (Activity 3) to allow the player to collect items during their adventure.\n",
        "   - Create a variety of items with different properties, such as health potions, weapons, or armor.\n",
        "   - Implement functions to add and remove items from the player's inventory.\n",
        "   - Provide options for the player to use or discard items during their journey.\n",
        "\n",
        "4. Decision-Making:\n",
        "   - Design multiple decision points throughout the game where the player must make choices that affect the outcome.\n",
        "   - Use if-else statements and conditional logic to determine the consequences of each decision.\n",
        "   - Incorporate branching storylines based on the player's choices, leading to different paths and endings.\n",
        "\n",
        "By combining the elements from previous activities, you can reuse the code you have already written and build a comprehensive and engaging adventure game. Don't forget to add creative storytelling, engaging dialogue, and immersive descriptions to enhance the player's experience.\n",
        "\n",
        "Feel free to modify and expand upon the project based on your own creativity and interests. Have fun and enjoy the process of bringing your game to life!\n",
        "\n",
        "Remember to follow good coding practices, such as using functions, modularizing your code, and adding appropriate comments for better readability.\n",
        "\n",
        "Once you complete the project, you can share it with others to showcase your Python skills and creativity!\n",
        "\n",
        "## Additional Resources and Tips:\n",
        "- Review the concepts and topics covered throughout the course, ensuring you have a solid understanding of Python fundamentals.\n",
        "- Practice coding on your own to reinforce your knowledge and gain confidence.\n",
        "- Explore online Python communities, forums, and resources to connect with other Python enthusiasts and continue learning.\n",
        "- Consider taking more advanced Python courses or exploring specialized areas such as data science, web development, or machine learning.\n",
        "- Keep up with the latest updates and trends in the Python ecosystem to stay current with the language's evolving landscape.\n",
        "\n",
        "Congratulations on completing the 12-week Python course! You've gained a strong foundation in Python programming and are ready to embark on further learning and exciting coding adventures. Keep coding and exploring the vast possibilities that Python offers!\n"
      ]
    },
    {
      "attachments": {},
      "cell_type": "markdown",
      "id": "51497327",
      "metadata": {},
      "source": []
    }
  ],
  "metadata": {
    "kernelspec": {
      "display_name": "Python 3",
      "language": "python",
      "name": "python3"
    },
    "language_info": {
      "codemirror_mode": {
        "name": "ipython",
        "version": 3
      },
      "file_extension": ".py",
      "mimetype": "text/x-python",
      "name": "python",
      "nbconvert_exporter": "python",
      "pygments_lexer": "ipython3",
      "version": "3.7.11"
    }
  },
  "nbformat": 4,
  "nbformat_minor": 5
}
