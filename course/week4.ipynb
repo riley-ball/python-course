{
  "cells": [
    {
      "attachments": {},
      "cell_type": "markdown",
      "metadata": {},
      "source": [
        "# Week 4: Lists and Tuples\n",
        "\n",
        "**Lesson:** Lists, tuples and their methods, indexing and slicing, nested data structures\n",
        "\n",
        "### Activity Ideas:\n",
        "1. Dungeon Inventory: Create a simple inventory list, representing a beginner's gear in a Dungeons & Dragons game.\n",
        "2. Character Stats: Initialize a tuple with basic character stats (strength, dexterity, constitution, intelligence, wisdom, charisma) for a new level 1 Super Smash Bros. character.\n",
        "3. Shop Items: Write a program that allows the user to view items from a shop list, select items to buy, and confirm their purchases.\n",
        "4. Nested Game Scores: Create a nested data structure to store the scores from different rounds of a simple tabletop game. Practice accessing and modifying scores.\n",
        "5. Gamer Profile: Create a dictionary with keys such as 'username', 'birthdate', and 'favorite_games' (as a list) to represent a simple online gamer profile.\n",
        "\n",
        "## Activity: Dungeon Inventory\n",
        "\n",
        "In this activity, you will create a simple inventory list representing a beginner's gear in a Dungeons & Dragons game.\n",
        "\n",
        "```python\n",
        "# Dungeon Inventory\n",
        "# Create an inventory list for a beginner's gear in a Dungeons & Dragons game\n",
        "\n",
        "# Initialize the inventory list\n",
        "inventory = [\"Sword\", \"Shield\", \"Health Potion\", \"Leather Armor\", \"Torch\"]\n",
        "\n",
        "# Print the inventory\n",
        "print(\"Inventory:\")\n",
        "for item in inventory:\n",
        "    print(\"- \" + item)\n",
        "```"
      ]
    }
  ],
  "metadata": {
    "kernelspec": {
      "display_name": "Python 3",
      "language": "python",
      "name": "python3"
    },
    "language_info": {
      "codemirror_mode": {
        "name": "ipython",
        "version": 3
      },
      "file_extension": ".py",
      "mimetype": "text/x-python",
      "name": "python",
      "nbconvert_exporter": "python",
      "pygments_lexer": "ipython3",
      "version": "3.7.11"
    }
  },
  "nbformat": 4,
  "nbformat_minor": 5
}
