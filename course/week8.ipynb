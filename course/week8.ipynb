{
  "cells": [
    {
      "attachments": {},
      "cell_type": "markdown",
      "id": "809f71b6",
      "metadata": {},
      "source": [
        "# Week 8: Dictionaries and Sets\n",
        "\n",
        "**Lesson:** Introduction to dictionaries, sets and their methods, iterating through dictionaries and sets\n",
        "\n",
        "### Activity Ideas:\n",
        "1. Create a simple Dungeon Master's dictionary with keys for character names and values for stats. Learn to add, modify, and remove characters.\n",
        "2. Use a set to keep track of unique items found in a treasure chest in a D&D game, eliminating duplicates.\n",
        "3. Create a Super Smash Bros. themed dictionary, where keys are character names and values are their special moves. Practice iterating through the dictionary to display each character's moves.\n",
        "4. Use a set to store unique gamer tags or usernames for an online game. Learn to add and remove players from the set and check membership.\n",
        "5. Create a simple turn-based battle system using dictionaries to store character stats, with keys such as name, health, and attack damage. Run a loop to simulate a battle using these stats.\n",
        "\n",
        "## Activity: Dungeon Master's Dictionary\n",
        "\n",
        "In this activity, you will create a simple Dungeon Master's dictionary to store character names and their corresponding stats. You will learn to add, modify, and remove characters from the dictionary.\n",
        "\n",
        "```python\n",
        "# Dungeon Master's Dictionary\n",
        "\n",
        "characters = {\n",
        "    \"Gandalf\": {\"Class\": \"Wizard\", \"Level\": 10, \"Health\": 100},\n",
        "    \"Aragorn\": {\"Class\": \"Ranger\", \"Level\": 8, \"Health\": 80},\n",
        "    \"Frodo\": {\"Class\": \"Rogue\", \"Level\": 5, \"Health\": 50}\n",
        "}\n",
        "\n",
        "# Add a new character\n",
        "characters[\"Legolas\"] = {\"Class\": \"Archer\", \"Level\": 7, \"Health\": 70}\n",
        "\n",
        "# Modify a character's stats\n",
        "characters[\"Gandalf\"][\"Level\"] = 11\n",
        "\n",
        "# Remove a character\n",
        "del characters[\"Frodo\"]\n",
        "\n",
        "# Print the updated dictionary\n",
        "print(\"Dungeon Master's Dictionary:\")\n",
        "for name, stats in characters.items():\n",
        "    print(f\"\\n{name}:\")\n",
        "    for key, value in stats.items():\n",
        "        print(f\"{key}: {value}\")\n",
        "```"
      ]
    },
    {
      "attachments": {},
      "cell_type": "markdown",
      "id": "c9282ac5",
      "metadata": {},
      "source": []
    }
  ],
  "metadata": {
    "kernelspec": {
      "display_name": "Python 3",
      "language": "python",
      "name": "python3"
    },
    "language_info": {
      "codemirror_mode": {
        "name": "ipython",
        "version": 3
      },
      "file_extension": ".py",
      "mimetype": "text/x-python",
      "name": "python",
      "nbconvert_exporter": "python",
      "pygments_lexer": "ipython3",
      "version": "3.7.11"
    }
  },
  "nbformat": 4,
  "nbformat_minor": 5
}
