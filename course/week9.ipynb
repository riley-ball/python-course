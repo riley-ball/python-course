{
  "cells": [
    {
      "attachments": {},
      "cell_type": "markdown",
      "metadata": {},
      "source": [
        "# Week 9: Classes and Objects\n",
        "\n",
        "**Lesson:** Object-oriented programming (OOP) concepts, defining classes, creating objects, constructors, methods, attributes\n",
        "\n",
        "### Activity Ideas:\n",
        "1. Activity 1: Create a simple character class in a Dungeons & Dragons-style game. Include basic attributes like health, name, and level, and basic methods to show character stats and level up.\n",
        "2. Activity 2: Develop a turn-based battle game based on Super Smash Bros. with two characters, each having a class with attributes like health and damage and methods for attacking and defending.\n",
        "3. Activity 3: Design a basic inventory system for a video game with classes for items, characters, and the inventory itself. Allow the characters to move and use items.\n",
        "4. Activity 4: Create a class representing a gaming console, with attributes like the console name, the number of controllers, and the list of games installed. Implement methods to install or remove games, and check if games are compatible.\n",
        "5. Activity 5: Write a beginner-friendly text-based adventure game based on Dungeons & Dragons. Create classes for rooms, items, and characters, and use methods to move between rooms, pick up items, and interact with the environment.\n",
        "\n",
        "## Activity: Simple Character Class\n",
        "\n",
        "In this activity, you will create a simple character class for a Dungeons & Dragons-style game. The class will have attributes like health, name, and level, as well as basic methods to show character stats and level up.\n",
        "\n",
        "```python\n",
        "# Simple Character Class\n",
        "\n",
        "class Character:\n",
        "    def __init__(self, name, health, level):\n",
        "        self.name = name\n",
        "        self.health = health\n",
        "        self.level = level\n",
        "\n",
        "    def show_stats(self):\n",
        "        print(f\"Name: {self.name}\")\n",
        "        print(f\"Health: {self.health}\")\n",
        "        print(f\"Level: {self.level}\")\n",
        "\n",
        "    def level_up(self):\n",
        "        self.level += 1\n",
        "        print(f\"{self.name} leveled up to level {self.level}!\")\n",
        "\n",
        "# Create a character object\n",
        "player = Character(\"Gandalf\", 100, 5)\n",
        "\n",
        "# Show character stats\n",
        "player.show_stats()\n",
        "\n",
        "# Level up the character\n",
        "player.level_up()\n",
        "```"
      ]
    },
    {
      "attachments": {},
      "cell_type": "markdown",
      "id": "9c300f14",
      "metadata": {},
      "source": []
    }
  ],
  "metadata": {
    "kernelspec": {
      "display_name": "Python 3",
      "language": "python",
      "name": "python3"
    },
    "language_info": {
      "codemirror_mode": {
        "name": "ipython",
        "version": 3
      },
      "file_extension": ".py",
      "mimetype": "text/x-python",
      "name": "python",
      "nbconvert_exporter": "python",
      "pygments_lexer": "ipython3",
      "version": "3.7.11"
    }
  },
  "nbformat": 4,
  "nbformat_minor": 5
}
