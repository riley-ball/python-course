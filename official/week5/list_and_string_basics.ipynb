{
 "cells": [
  {
   "cell_type": "code",
   "execution_count": null,
   "metadata": {
    "collapsed": true
   },
   "outputs": [],
   "source": [
    "# Introduce Strings and Indexing\n",
    "# Working with strings and accessing characters by index.\n",
    "greeting = 'Hello, World!'\n",
    "print('Original string:', greeting)\n",
    "print('First character:', greeting[0])\n",
    "print('Last character:', greeting[-1])\n",
    "new_greeting = greeting.replace('World', 'Python')\n",
    "print('New string:', new_greeting)"
   ]
  },
  {
   "cell_type": "code",
   "execution_count": null,
   "metadata": {
    "collapsed": true
   },
   "outputs": [],
   "source": [
    "# Introduce Lists and Indexing\n",
    "# Creating and modifying a list, and accessing list elements by index.\n",
    "fruits = ['apple', 'banana', 'cherry']\n",
    "print('Original list:', fruits)\n",
    "fruits[1] = 'blueberry'\n",
    "print('Modified list:', fruits)\n",
    "print('First fruit:', fruits[0])\n",
    "print('Last fruit:', fruits[-1])"
   ]
  },
  {
   "cell_type": "code",
   "execution_count": null,
   "metadata": {
    "collapsed": true
   },
   "outputs": [],
   "source": [
    "# Introduce Adding and Removing Elements\n",
    "# Using append to add to a list, and remove to take away from it.\n",
    "fruits.append('date')\n",
    "print('List after appending:', fruits)\n",
    "fruits.remove('apple')\n",
    "print('List after removing:', fruits)"
   ]
  },
  {
   "cell_type": "code",
   "execution_count": null,
   "metadata": {
    "collapsed": true
   },
   "outputs": [],
   "source": [
    "# Introduce More List Methods\n",
    "# Using insert to add an item at a specific index, and pop to remove an item by index.\n",
    "fruits.insert(0, 'apricot')\n",
    "print('List after inserting:', fruits)\n",
    "popped_fruit = fruits.pop(2)\n",
    "print('List after popping:', fruits)\n",
    "print('The popped fruit was:', popped_fruit)"
   ]
  },
  {
   "cell_type": "code",
   "execution_count": null,
   "metadata": {
    "collapsed": true
   },
   "outputs": [],
   "source": [
    "# Basic Conditional Statements\n",
    "# Use conditional statements to perform checks on the list.\n",
    "if 'blueberry' in fruits:\n",
    "    print('Blueberry is in the list!')\n",
    "else:\n",
    "    print('Blueberry is not in the list.')"
   ]
  },
  {
   "cell_type": "code",
   "execution_count": null,
   "metadata": {
    "collapsed": true
   },
   "outputs": [],
   "source": [
    "# Introduce Input and Validation\n",
    "# Get user input to access list elements and validate the input.\n",
    "index = input('Enter an index number between 0 and ' + str(len(fruits) - 1) + ': ')\n",
    "try:\n",
    "    index = int(index)\n",
    "    if 0 <= index < len(fruits):\n",
    "        print('The fruit at index', index, 'is', fruits[index])\n",
    "    else:\n",
    "        print('Index is out of range.')\n",
    "except ValueError:\n",
    "    print('Please enter a valid number.')"
   ]
  }
 ],
 "metadata": {
  "kernelspec": {
   "display_name": "Python 3",
   "language": "python",
   "name": "python3"
  },
  "language_info": {
   "codemirror_mode": {
    "name": "ipython",
    "version": 3
   },
   "file_extension": ".py",
   "mimetype": "text/x-python",
   "name": "python",
   "nbconvert_exporter": "python",
   "pygments_lexer": "ipython3",
   "version": "3.8.5"
  }
 },
 "nbformat": 4,
 "nbformat_minor": 2
}
