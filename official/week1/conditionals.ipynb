{
   "cells": [
      {
         "cell_type": "markdown",
         "metadata": {},
         "source": [
            "### **Understanding Conditional Statements: `if`, `elif`, and `else`**\n",
            "\n",
            "In programming, there are often situations where you need to make decisions and execute a certain block of code based on specific conditions. Python provides the `if`, `elif`, and `else` statements for this purpose."
         ]
      },
      {
         "cell_type": "markdown",
         "metadata": {},
         "source": [
            "#### **1. The `if` Statement**\n",
            "\n",
            "The `if` statement is used to test a specific condition. If the condition is `True`, the code block beneath the `if` statement will execute.\n",
            "\n",
            "**Syntax:**\n",
            "\n",
            "```python\n",
            "if condition:\n",
            "    # code to execute if condition is True\n",
            "```\n",
            "\n",
            "**Example:**"
         ]
      },
      {
         "cell_type": "code",
         "execution_count": null,
         "metadata": {},
         "outputs": [],
         "source": [
            "magic_number = 7\n",
            "if magic_number < 10:\n",
            "    print(\"Your magic number is a single digit!\")"
         ]
      },
      {
         "cell_type": "markdown",
         "metadata": {},
         "source": [
            "#### **2. The `else` Statement**\n",
            "\n",
            "You can use the `else` statement to define a block of code that will be executed if the condition in the `if` statement is `False`.\n",
            "\n",
            "**Syntax:**\n",
            "\n",
            "```python\n",
            "if condition:\n",
            "    # code to execute if condition is True\n",
            "else:\n",
            "    # code to execute if condition is False\n",
            "```\n",
            "\n",
            "**Example:**"
         ]
      },
      {
         "cell_type": "code",
         "execution_count": null,
         "metadata": {},
         "outputs": [],
         "source": [
            "magic_number = 3\n",
            "if magic_number < 10:\n",
            "    print(\"Your magic number is a single digit!\")\n",
            "else:\n",
            "    print(\"Your magic number is double digits!\")"
         ]
      },
      {
         "cell_type": "markdown",
         "metadata": {},
         "source": [
            "#### **3. The `elif` Statement**\n",
            "\n",
            "`elif` is short for \"else if.\" It allows you to check multiple conditions after an `if` statement. It's useful when you have more than two possible scenarios to consider.\n",
            "\n",
            "**Syntax:**\n",
            "\n",
            "```python\n",
            "if condition1:\n",
            "    # code to execute if condition1 is True\n",
            "elif condition2:\n",
            "    # code to execute if condition1 is False and condition2 is True\n",
            "else:\n",
            "    # code to execute if none of the above conditions are True\n",
            "```\n",
            "\n",
            "**Example:**"
         ]
      },
      {
         "cell_type": "code",
         "execution_count": null,
         "metadata": {},
         "outputs": [],
         "source": [
            "score = 85\n",
            "\n",
            "if score >= 90:\n",
            "    print(\"Grade: A\")\n",
            "elif score >= 80:\n",
            "    print(\"Grade: B\")\n",
            "elif score >= 70:\n",
            "    print(\"Grade: C\")\n",
            "else:\n",
            "    print(\"Grade: F\")"
         ]
      }
   ],
   "metadata": {
      "language_info": {
         "name": "python",
         "version": "3.9.1"
      }
   },
   "nbformat": 4,
   "nbformat_minor": 5
}
