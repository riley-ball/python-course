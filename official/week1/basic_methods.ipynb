{
  "cells": [
    {
      "cell_type": "markdown",
      "metadata": {},
      "source": [
        "### **Basic String Methods in Python**\n",
        "\n",
        "Strings in Python have built-in methods that allow us to perform various operations. Here are some of the most commonly used string methods:"
      ]
    },
    {
      "cell_type": "markdown",
      "metadata": {},
      "source": [
        "#### **1. `.upper()`**\n",
        "This method returns the string in uppercase.\n",
        "\n",
        "**Example:**"
      ]
    },
    {
      "cell_type": "code",
      "execution_count": null,
      "metadata": {},
      "outputs": [],
      "source": [
        "text = \"hello\"\n",
        "upper_text = text.upper()\n",
        "print(upper_text)"
      ]
    },
    {
      "cell_type": "markdown",
      "metadata": {},
      "source": [
        "#### **2. `.lower()`**\n",
        "This method returns the string in lowercase.\n",
        "\n",
        "**Example:**"
      ]
    },
    {
      "cell_type": "code",
      "execution_count": null,
      "metadata": {},
      "outputs": [],
      "source": [
        "text = \"HELLO\"\n",
        "lower_text = text.lower()\n",
        "print(lower_text)"
      ]
    },
    {
      "cell_type": "markdown",
      "metadata": {},
      "source": [
        "#### **3. `.title()`**\n",
        "This method returns the string in title case, which means the first letter of each word is capitalized.\n",
        "\n",
        "**Example:**"
      ]
    },
    {
      "cell_type": "code",
      "execution_count": null,
      "metadata": {},
      "outputs": [],
      "source": [
        "text = \"hello world\"\n",
        "title_text = text.title()\n",
        "print(title_text)"
      ]
    },
    {
      "cell_type": "markdown",
      "metadata": {},
      "source": [
        "#### **4. `len()` function**\n",
        "This isn't a method of the string, but a built-in Python function. It returns the length of the string.\n",
        "\n",
        "**Example:**"
      ]
    },
    {
      "cell_type": "code",
      "execution_count": null,
      "metadata": {},
      "outputs": [],
      "source": [
        "text = \"hello\"\n",
        "length = len(text)\n",
        "print(length)"
      ]
    },
    {
      "cell_type": "markdown",
      "id": "618c69ac",
      "metadata": {},
      "source": [
        "#### **5. String: `.strip()`**\n",
        "Removes whitespace from the beginning and end of a string.\n",
        "\n",
        "**Example:**"
      ]
    },
    {
      "cell_type": "code",
      "execution_count": null,
      "id": "0ff3799f",
      "metadata": {},
      "outputs": [],
      "source": [
        "text = \"   extra spaces   \"\n",
        "cleaned_text = text.strip()\n",
        "print(cleaned_text)"
      ]
    },
    {
      "cell_type": "markdown",
      "id": "cf2d3a39",
      "metadata": {},
      "source": [
        "#### **6. String: `.replace(old, new)`**\n",
        "Replaces a substring in a string.\n",
        "\n",
        "**Example:**"
      ]
    },
    {
      "cell_type": "code",
      "execution_count": null,
      "id": "c201fa2e",
      "metadata": {},
      "outputs": [],
      "source": [
        "text = \"hello world\"\n",
        "new_text = text.replace(\"world\", \"Python\")\n",
        "print(new_text)"
      ]
    },
    {
      "cell_type": "markdown",
      "id": "07dd578c",
      "metadata": {},
      "source": [
        "#### **7. String: `.find(substring)`**\n",
        "Returns the index of the first occurrence of a substring, or -1 if not found.\n",
        "\n",
        "**Example:**"
      ]
    },
    {
      "cell_type": "code",
      "execution_count": null,
      "id": "9b31e4a2",
      "metadata": {},
      "outputs": [],
      "source": [
        "text = \"hello world\"\n",
        "index = text.find(\"world\")\n",
        "print(index)"
      ]
    },
    {
      "cell_type": "markdown",
      "id": "2269697c",
      "metadata": {},
      "source": [
        "#### **8. Float: `round(number, ndigits)`**\n",
        "Rounds a floating-point number to the specified number of digits.\n",
        "\n",
        "**Example:**"
      ]
    },
    {
      "cell_type": "code",
      "execution_count": null,
      "id": "9523e140",
      "metadata": {},
      "outputs": [],
      "source": [
        "number = 3.14159\n",
        "rounded_number = round(number, 2)\n",
        "print(rounded_number)"
      ]
    },
    {
      "cell_type": "markdown",
      "id": "2a5372ea",
      "metadata": {},
      "source": [
        "#### **9. Conversion: `int(float)` and `float(int)`**\n",
        "Converts between float and integer types.\n",
        "\n",
        "**Examples:**"
      ]
    },
    {
      "cell_type": "code",
      "execution_count": null,
      "id": "a5cabe3b",
      "metadata": {},
      "outputs": [],
      "source": [
        "# Float to Integer\n",
        "floating_point = 3.7\n",
        "integer_value = int(floating_point)\n",
        "print(integer_value)\n",
        "\n",
        "# Integer to Float\n",
        "integer_number = 4\n",
        "float_value = float(integer_number)\n",
        "print(float_value)"
      ]
    }
  ],
  "metadata": {
    "language_info": {
      "name": "python",
      "version": "3.9.1"
    }
  },
  "nbformat": 4,
  "nbformat_minor": 5
}
