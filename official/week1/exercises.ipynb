{
 "cells": [
  {
   "cell_type": "code",
   "execution_count": 2,
   "metadata": {},
   "outputs": [
    {
     "name": "stdout",
     "output_type": "stream",
     "text": [
      "Hello! My name is Riley\n",
      "I am 24 years old\n",
      "I rate Riley a 9.9 out of 10\n",
      "I really like to play video games and code\n"
     ]
    }
   ],
   "source": [
    "# Print statements using strings\n",
    "print(\"Hello! My name is Riley\")\n",
    "print(\"I am 24 years old\")\n",
    "print(\"I rate Riley a 9.9 out of 10\")\n",
    "print(\"I really like to play video games and code\")\n"
   ]
  },
  {
   "cell_type": "code",
   "execution_count": null,
   "metadata": {},
   "outputs": [],
   "source": [
    "# Print statements using variables\n",
    "name = \"Riley\"\n",
    "age = 24\n",
    "rating = 9.9\n",
    "hobby1 = \"play video games\"\n",
    "hobby2 = \"code\"\n",
    "print(\"Hello! My name is\", name)\n",
    "print(\"I am\", age, \"years old\")\n",
    "print(\"I rate Riley a\", rating, \"out of 10\")\n",
    "print(\"I really like to\", hobby1, \"and\", hobby2)"
   ]
  }
 ],
 "metadata": {
  "kernelspec": {
   "display_name": "Python 3",
   "language": "python",
   "name": "python3"
  },
  "language_info": {
   "codemirror_mode": {
    "name": "ipython",
    "version": 3
   },
   "file_extension": ".py",
   "mimetype": "text/x-python",
   "name": "python",
   "nbconvert_exporter": "python",
   "pygments_lexer": "ipython3",
   "version": "3.12.0"
  }
 },
 "nbformat": 4,
 "nbformat_minor": 2
}
