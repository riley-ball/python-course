{
 "cells": [
  {
   "cell_type": "code",
   "execution_count": 2,
   "metadata": {},
   "outputs": [
    {
     "name": "stdout",
     "output_type": "stream",
     "text": [
      "Hello! My name is Riley\n",
      "I am 24 years old\n",
      "I rate Riley a 9.9 out of 10\n",
      "I really like to play video games and code\n"
     ]
    }
   ],
   "source": [
    "# Print statements using strings\n",
    "print(\"Hello! My name is Riley\")\n",
    "print(\"I am 24 years old\")\n",
    "print(\"I rate Riley a 9.9 out of 10\")\n",
    "print(\"I really like to play video games and code\")\n"
   ]
  },
  {
   "cell_type": "code",
   "execution_count": 3,
   "metadata": {},
   "outputs": [
    {
     "name": "stdout",
     "output_type": "stream",
     "text": [
      "Hello! My name is Riley\n",
      "I am 24 years old\n",
      "I rate Riley a 9.9 out of 10\n",
      "I really like to play video games and code\n"
     ]
    }
   ],
   "source": [
    "# Print statements using variables\n",
    "name = \"Riley\"\n",
    "age = 24\n",
    "rating = 9.9\n",
    "hobby1 = \"play video games\"\n",
    "hobby2 = \"code\"\n",
    "print(\"Hello! My name is\", name)\n",
    "print(\"I am\", age, \"years old\")\n",
    "print(\"I rate Riley a\", rating, \"out of 10\")\n",
    "print(\"I really like to\", hobby1, \"and\", hobby2)"
   ]
  },
  {
   "cell_type": "code",
   "execution_count": 4,
   "metadata": {},
   "outputs": [
    {
     "name": "stdout",
     "output_type": "stream",
     "text": [
      "Hello! My name is Riley\n",
      "I am 24 years old\n",
      "I rate Riley a 9.9 out of 10\n",
      "I really like to play video games and code\n"
     ]
    }
   ],
   "source": [
    "# Print statements using f strings\n",
    "name = \"Riley\"\n",
    "age = 24\n",
    "rating = 9.9\n",
    "hobby1 = \"play video games\"\n",
    "hobby2 = \"code\"\n",
    "print(f\"Hello! My name is {name}\")\n",
    "print(f\"I am {age} years old\")\n",
    "print(f\"I rate Riley a {rating} out of 10\")\n",
    "print(f\"I really like to {hobby1} and {hobby2}\")"
   ]
  },
  {
   "cell_type": "markdown",
   "metadata": {},
   "source": [
    "## Exercises\n",
    "\n",
    "### ★☆☆ Easy:\n",
    "\n",
    "1. **String Manipulation**:\n",
    "   - Convert the string \"python ROCKS\" to lowercase.\n",
    "   - Replace the word \"apple\" with \"orange\" in the string \"I love to eat apple\".\n",
    "   - Remove the spaces at the beginning and end of the string \" Hello, World! \".\n",
    "2. **Number Operations**:\n",
    "   - Round the number 3.765 to two decimal places.\n",
    "   - Compute the sum of 15 and 23.\n",
    "   - Convert the string \"123\" to an integer.\n",
    "   - Convert the number 23.5 to a string.\n",
    "3. **Input/Output**:\n",
    "   - Use the `input()` function to get the user's name and greet them with \"Hello, [name]!\".\n",
    "4. **Basic Programming**:\n",
    "   - Print the numbers from 1 to 10 using a loop.\n",
    "   - Find the type of the variable with the value \"Hello!\".\n",
    "\n",
    "### ★★☆ Intermediate:\n",
    "\n",
    "5. **Arithmetic**:\n",
    "   - Subtract 5.5 from 20 and then add 3.2.\n",
    "   - Multiply 8 by 7 and then divide the result by 4.\n",
    "6. **Conditionals**:\n",
    "   - Write an `if` statement that prints \"It's hot!\" if the temperature variable is above 30.\n",
    "   - Create an `if-else` structure that prints \"Even\" if a number is even and \"Odd\" otherwise.\n",
    "7. **String Search**:\n",
    "   - Check if \"cat\" is a substring of the string \"concatenate\".\n",
    "8. **Modulo Operations**:\n",
    "   - Compute the remainder of 25 divided by 7.\n",
    "\n",
    "### ★★★ Hard:\n",
    "\n",
    "9. **Grading System**:\n",
    "   - Using `elif`, write a condition that checks for the grade of a student and prints out the corresponding letter grade (A, B, C, D, F).\n",
    "10. **Math Operations**:\n",
    "   - Raise 5 to the power of 3.\n",
    "11. **Function Creation**:\n",
    "   - Create a function that takes two numbers as arguments and returns their sum.\n",
    "12. **Loop and Search**:\n",
    "   - Given a string, use a loop to count how many vowels (a, e, i, o, u) are in it.\n",
    "13. **Loop Control**:\n",
    "   - Create a program that repeatedly asks the user for a number and prints the square of it until they type \"stop\".\n"
   ]
  }
 ],
 "metadata": {
  "kernelspec": {
   "display_name": "Python 3",
   "language": "python",
   "name": "python3"
  },
  "language_info": {
   "codemirror_mode": {
    "name": "ipython",
    "version": 3
   },
   "file_extension": ".py",
   "mimetype": "text/x-python",
   "name": "python",
   "nbconvert_exporter": "python",
   "pygments_lexer": "ipython3",
   "version": "3.12.0"
  }
 },
 "nbformat": 4,
 "nbformat_minor": 2
}
