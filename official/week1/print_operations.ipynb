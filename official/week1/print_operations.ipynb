{
   "cells": [
      {
         "cell_type": "markdown",
         "metadata": {},
         "source": [
            "### **Printing in Python**\n",
            "\n",
            "In Python, the `print()` function allows us to output text to the console. By default, the function sends the output to the screen, but it can be redirected to other places, like files."
         ]
      },
      {
         "cell_type": "code",
         "metadata": {},
         "source": [
            "print(\"Hello, World!\")"
         ],
         "outputs": [],
         "execution_count": null
      },
      {
         "cell_type": "markdown",
         "metadata": {},
         "source": [
            "### **Printing Variables**\n",
            "\n",
            "Variables are like containers that store information. You can store a piece of data (like a number, text, list, etc.) in a variable and then use that variable within the `print()` function."
         ]
      },
      {
         "cell_type": "code",
         "metadata": {},
         "source": [
            "name = \"Alice\"\n",
            "print(name)"
         ],
         "outputs": [],
         "execution_count": null
      },
      {
         "cell_type": "markdown",
         "metadata": {},
         "source": [
            "### **Combining Text and Variables**\n",
            "\n",
            "You can combine both text and variables within a `print()` statement."
         ]
      },
      {
         "cell_type": "code",
         "metadata": {},
         "source": [
            "name = \"Bob\"\n",
            "print(\"Hello, \" + name + \"!\")"
         ],
         "outputs": [],
         "execution_count": null
      },
      {
         "cell_type": "code",
         "metadata": {},
         "source": [
            "name = \"Charlie\"\n",
            "print(f\"Hello, {name}!\")"
         ],
         "outputs": [],
         "execution_count": null
      },
      {
         "cell_type": "markdown",
         "metadata": {},
         "source": [
            "### **Multiple Variables**\n",
            "\n",
            "You can print multiple variables in one go."
         ]
      },
      {
         "cell_type": "code",
         "metadata": {},
         "source": [
            "first_name = \"David\"\n",
            "last_name = \"Smith\"\n",
            "print(\"First Name:\", first_name, \"| Last Name:\", last_name)"
         ],
         "outputs": [],
         "execution_count": null
      },
      {
         "cell_type": "markdown",
         "metadata": {},
         "source": [
            "### **Conclusion**\n",
            "\n",
            "The `print()` function is a fundamental tool in Python for providing feedback and displaying information. As you get more experienced, you'll find there are many more options and nuances to the function, but this should give beginners a solid foundation."
         ]
      }
   ],
   "metadata": {
      "language_info": {
         "name": "python",
         "version": "3.9.1"
      }
   },
   "nbformat": 4,
   "nbformat_minor": 5
}
