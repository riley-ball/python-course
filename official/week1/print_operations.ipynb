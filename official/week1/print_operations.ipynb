{
   "cells": [
      {
         "cell_type": "markdown",
         "metadata": {},
         "source": [
            "### **Printing in Python**\n",
            "\n",
            "In Python, the `print()` function allows us to output text to the console. By default, the function sends the output to the screen, but it can be redirected to other places, like files."
         ]
      },
      {
         "cell_type": "code",
         "execution_count": null,
         "metadata": {},
         "outputs": [],
         "source": [
            "print(\"Hello, World!\")"
         ]
      },
      {
         "cell_type": "markdown",
         "metadata": {},
         "source": [
            "### **Printing Variables**\n",
            "\n",
            "Variables are like containers that store information. You can store a piece of data (like a number, text, list, etc.) in a variable and then use that variable within the `print()` function."
         ]
      },
      {
         "cell_type": "code",
         "execution_count": null,
         "metadata": {},
         "outputs": [],
         "source": [
            "name = \"Alice\"\n",
            "print(name)"
         ]
      },
      {
         "cell_type": "markdown",
         "metadata": {},
         "source": [
            "### **Combining Text and Variables**\n",
            "\n",
            "You can combine both text and variables within a `print()` statement."
         ]
      },
      {
         "cell_type": "code",
         "execution_count": null,
         "metadata": {},
         "outputs": [],
         "source": [
            "name = \"Bob\"\n",
            "print(\"Hello, \" + name + \"!\")"
         ]
      },
      {
         "cell_type": "code",
         "execution_count": null,
         "metadata": {},
         "outputs": [],
         "source": [
            "name = \"Charlie\"\n",
            "print(f\"Hello, {name}!\")"
         ]
      },
      {
         "cell_type": "markdown",
         "metadata": {},
         "source": [
            "### **Multiple Variables**\n",
            "\n",
            "You can print multiple variables in one go."
         ]
      },
      {
         "cell_type": "code",
         "execution_count": null,
         "metadata": {},
         "outputs": [],
         "source": [
            "first_name = \"David\"\n",
            "last_name = \"Smith\"\n",
            "print(\"First Name:\", first_name, \"| Last Name:\", last_name)"
         ]
      }
   ],
   "metadata": {
      "language_info": {
         "name": "python",
         "version": "3.9.1"
      }
   },
   "nbformat": 4,
   "nbformat_minor": 5
}
