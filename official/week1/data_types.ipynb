{
 "cells": [
  {
   "cell_type": "markdown",
   "metadata": {},
   "source": [
    "## Integer\n",
    "**Integer** represents whole numbers without a decimal point."
   ]
  },
  {
   "cell_type": "code",
   "execution_count": 1,
   "metadata": {},
   "outputs": [
    {
     "name": "stdout",
     "output_type": "stream",
     "text": [
      "Age is of type: <class 'int'> and the value is: 25\n"
     ]
    }
   ],
   "source": [
    "age = 25\n",
    "print(f\"Age is of type: {type(age)} and the value is: {age}\")"
   ]
  },
  {
   "cell_type": "markdown",
   "metadata": {},
   "source": [
    "## Float\n",
    "**Float** represents numbers with a decimal point."
   ]
  },
  {
   "cell_type": "code",
   "execution_count": 2,
   "metadata": {},
   "outputs": [
    {
     "name": "stdout",
     "output_type": "stream",
     "text": [
      "Price is of type: <class 'float'> and the value is: 19.99\n"
     ]
    }
   ],
   "source": [
    "price = 19.99\n",
    "print(f\"Price is of type: {type(price)} and the value is: {price}\")"
   ]
  },
  {
   "cell_type": "markdown",
   "metadata": {},
   "source": [
    "## String\n",
    "**String** is a sequence of characters."
   ]
  },
  {
   "cell_type": "code",
   "execution_count": 3,
   "metadata": {},
   "outputs": [
    {
     "name": "stdout",
     "output_type": "stream",
     "text": [
      "Name is of type: <class 'str'> and the value is: John Doe\n"
     ]
    }
   ],
   "source": [
    "name = \"John Doe\"\n",
    "print(f\"Name is of type: {type(name)} and the value is: {name}\")"
   ]
  },
  {
   "cell_type": "markdown",
   "metadata": {},
   "source": [
    "## List\n",
    "**List** is an ordered collection of items, which can be of mixed types."
   ]
  },
  {
   "cell_type": "code",
   "execution_count": 4,
   "metadata": {},
   "outputs": [
    {
     "name": "stdout",
     "output_type": "stream",
     "text": [
      "Fruits is of type: <class 'list'> and the value is: ['apple', 'banana', 'cherry']\n"
     ]
    }
   ],
   "source": [
    "fruits = [\"apple\", \"banana\", \"cherry\"]\n",
    "print(f\"Fruits is of type: {type(fruits)} and the value is: {fruits}\")"
   ]
  },
  {
   "cell_type": "markdown",
   "id": "016f4759",
   "metadata": {},
   "source": [
    "## Boolean\n",
    "**Boolean** type can either be True or False."
   ]
  },
  {
   "cell_type": "code",
   "execution_count": 7,
   "id": "426ec7db",
   "metadata": {},
   "outputs": [
    {
     "name": "stdout",
     "output_type": "stream",
     "text": [
      "Is_student is of type: <class 'bool'> and the value is: True\n"
     ]
    }
   ],
   "source": [
    "is_student = True\n",
    "print(f\"Is_student is of type: {type(is_student)} and the value is: {is_student}\")"
   ]
  },
  {
   "cell_type": "markdown",
   "metadata": {},
   "source": [
    "## Tuple\n",
    "**Tuple** is similar to a list but immutable, meaning it cannot be changed after creation."
   ]
  },
  {
   "cell_type": "code",
   "execution_count": 5,
   "metadata": {},
   "outputs": [
    {
     "name": "stdout",
     "output_type": "stream",
     "text": [
      "Coordinates is of type: <class 'tuple'> and the value is: (4, 5)\n"
     ]
    }
   ],
   "source": [
    "coordinates = (4, 5)\n",
    "print(f\"Coordinates is of type: {type(coordinates)} and the value is: {coordinates}\")"
   ]
  },
  {
   "cell_type": "markdown",
   "metadata": {},
   "source": [
    "## Dictionary\n",
    "**Dictionary** stores data in key-value pairs."
   ]
  },
  {
   "cell_type": "code",
   "execution_count": 6,
   "metadata": {},
   "outputs": [
    {
     "name": "stdout",
     "output_type": "stream",
     "text": [
      "Person is of type: <class 'dict'> and the value is: {'first_name': 'John', 'last_name': 'Doe', 'age': 30}\n"
     ]
    }
   ],
   "source": [
    "person = {\n",
    "    \"first_name\": \"John\",\n",
    "    \"last_name\": \"Doe\",\n",
    "    \"age\": 30\n",
    "}\n",
    "print(f\"Person is of type: {type(person)} and the value is: {person}\")"
   ]
  },
  {
   "cell_type": "markdown",
   "metadata": {},
   "source": [
    "## Set\n",
    "**Set** is an unordered collection of unique items."
   ]
  },
  {
   "cell_type": "code",
   "execution_count": null,
   "metadata": {},
   "outputs": [],
   "source": [
    "unique_numbers = {1, 2, 3, 3, 4, 4}\n",
    "print(f\"Unique_numbers is of type: {type(unique_numbers)} and the value is: {unique_numbers}\")"
   ]
  }
 ],
 "metadata": {
  "kernelspec": {
   "display_name": "Python 3",
   "language": "python",
   "name": "python3"
  },
  "language_info": {
   "codemirror_mode": {
    "name": "ipython",
    "version": 3
   },
   "file_extension": ".py",
   "mimetype": "text/x-python",
   "name": "python",
   "nbconvert_exporter": "python",
   "pygments_lexer": "ipython3",
   "version": "3.12.0"
  }
 },
 "nbformat": 4,
 "nbformat_minor": 5
}
