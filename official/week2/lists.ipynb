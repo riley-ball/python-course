{
   "cells": [
      {
         "cell_type": "markdown",
         "metadata": {},
         "source": [
            "### **Understanding Python Lists and Indexing**\n",
            "\n",
            "A list in Python is an ordered collection of items. Lists can contain items of different data types, including other lists. One of the key operations you can perform with lists is indexing, which allows you to access individual items in the list."
         ]
      },
      {
         "cell_type": "markdown",
         "metadata": {},
         "source": [
            "#### **1. Creating a List**\n",
            "\n",
            "A list is created by enclosing a comma-separated sequence of items in square brackets `[]`.\n",
            "\n",
            "**Syntax:**\n",
            "\n",
            "```python\n",
            "my_list = [item1, item2, item3, ...]\n",
            "```\n",
            "\n",
            "**Example:**"
         ]
      },
      {
         "cell_type": "code",
         "execution_count": null,
         "metadata": {},
         "outputs": [],
         "source": [
            "fruits = [\"apple\", \"banana\", \"cherry\", \"date\"]\n",
            "print(fruits)"
         ]
      },
      {
         "cell_type": "markdown",
         "metadata": {},
         "source": [
            "#### **2. Accessing Items (Indexing)**\n",
            "\n",
            "You can access individual items in a list using their indices. The index of the first item is `0`, the second item is `1`, and so on.\n",
            "\n",
            "**Syntax:**\n",
            "\n",
            "```python\n",
            "item = my_list[index]\n",
            "```\n",
            "\n",
            "**Example:**"
         ]
      },
      {
         "cell_type": "code",
         "execution_count": null,
         "metadata": {},
         "outputs": [],
         "source": [
            "first_fruit = fruits[0]\n",
            "third_fruit = fruits[2]\n",
            "print(\"First fruit:\", first_fruit)\n",
            "print(\"Third fruit:\", third_fruit)"
         ]
      },
      {
         "cell_type": "markdown",
         "metadata": {},
         "source": [
            "#### **3. Negative Indexing**\n",
            "\n",
            "Python also supports negative indexing, which means you can access items from the end of the list. The last item has an index of `-1`, the second last item has `-2`, and so on.\n",
            "\n",
            "**Example:**"
         ]
      },
      {
         "cell_type": "code",
         "execution_count": null,
         "metadata": {},
         "outputs": [],
         "source": [
            "last_fruit = fruits[-1]\n",
            "second_last_fruit = fruits[-2]\n",
            "print(\"Last fruit:\", last_fruit)\n",
            "print(\"Second last fruit:\", second_last_fruit)"
         ]
      }
   ],
   "metadata": {
      "language_info": {
         "name": "python",
         "version": "3.9.1"
      }
   },
   "nbformat": 4,
   "nbformat_minor": 5
}
