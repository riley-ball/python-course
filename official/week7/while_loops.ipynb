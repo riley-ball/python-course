{
  "cells": [
    {
      "cell_type": "markdown",
      "metadata": {},
      "source": [
        "# Introduction to While Loops\n",
        "This section will introduce you to the concept of while loops in Python. While loops are used for repeatedly executing a block of code as long as a specified condition is true. Let's explore how they work."
      ]
    },
    {
      "cell_type": "code",
      "execution_count": null,
      "metadata": {
        "collapsed": true
      },
      "outputs": [],
      "source": [
        "# Basic While Loop\n",
        "# This will print numbers from 1 to 5 using a while loop.\n",
        "count = 1\n",
        "while count <= 5:\n",
        "    print(count)\n",
        "    count += 1  # Increment the count"
      ]
    },
    {
      "cell_type": "markdown",
      "metadata": {
        "collapsed": true
      },
      "source": [
        "In the above example, the `while` loop executes its body as long as the `count` variable is less than or equal to 5."
      ]
    },
    {
      "cell_type": "code",
      "execution_count": 1,
      "metadata": {
        "collapsed": true
      },
      "outputs": [
        {
          "ename": "SyntaxError",
          "evalue": "invalid syntax. Perhaps you forgot a comma? (3286106942.py, line 5)",
          "output_type": "error",
          "traceback": [
            "\u001b[1;36m  Cell \u001b[1;32mIn[1], line 5\u001b[1;36m\u001b[0m\n\u001b[1;33m    user_input = input('Enter a word (type 'exit' to quit): ')\u001b[0m\n\u001b[1;37m                       ^\u001b[0m\n\u001b[1;31mSyntaxError\u001b[0m\u001b[1;31m:\u001b[0m invalid syntax. Perhaps you forgot a comma?\n"
          ]
        }
      ],
      "source": [
        "# Using While Loop with User Input\n",
        "# This will keep asking the user for input until 'exit' is entered.\n",
        "user_input = ''\n",
        "while user_input != 'exit':\n",
        "    user_input = input('Enter a word (type exit to quit): ')\n",
        "    print('You entered:', user_input)"
      ]
    },
    {
      "cell_type": "markdown",
      "metadata": {},
      "source": [
        "While loops are often used when you need to repeatedly perform an action based on user input or a changing condition."
      ]
    },
    {
      "cell_type": "code",
      "execution_count": null,
      "metadata": {
        "collapsed": true
      },
      "outputs": [],
      "source": [
        "# Using Break in While Loop\n",
        "# This will stop the loop when a specific condition is met.\n",
        "count = 1\n",
        "while True:\n",
        "    print(count)\n",
        "    count += 1\n",
        "    if count > 5:\n",
        "        print('Stopping the loop')\n",
        "        break"
      ]
    },
    {
      "cell_type": "markdown",
      "metadata": {},
      "source": [
        "The `break` statement in the loop stops the loop when the `count` exceeds 5."
      ]
    },
    {
      "cell_type": "code",
      "execution_count": null,
      "metadata": {
        "collapsed": true
      },
      "outputs": [],
      "source": [
        "# Using Continue in While Loop\n",
        "# This will skip iterations based on a condition.\n",
        "count = 1\n",
        "while count <= 5:\n",
        "    if count % 2 == 0:\n",
        "        print('Skipping even number:', count)\n",
        "        count += 1\n",
        "        continue\n",
        "    print('Processing odd number:', count)\n",
        "    count += 1"
      ]
    },
    {
      "cell_type": "markdown",
      "metadata": {},
      "source": [
        "The `continue` statement skips the current iteration of the loop based on a condition."
      ]
    }
  ],
  "metadata": {
    "kernelspec": {
      "display_name": "Python 3",
      "language": "python",
      "name": "python3"
    },
    "language_info": {
      "codemirror_mode": {
        "name": "ipython",
        "version": 3
      },
      "file_extension": ".py",
      "mimetype": "text/x-python",
      "name": "python",
      "nbconvert_exporter": "python",
      "pygments_lexer": "ipython3",
      "version": "3.12.0"
    }
  },
  "nbformat": 4,
  "nbformat_minor": 2
}
