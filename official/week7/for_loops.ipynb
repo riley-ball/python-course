{
  "cells": [
    {
      "cell_type": "markdown",
      "metadata": {},
      "source": [
        "# Introduction to For Loops\n",
        "This section will introduce you to the concept of for loops in Python. For loops are used for iterating over a sequence (such as a list, tuple, string) or other iterable objects. Let's explore how they work."
      ]
    },
    {
      "cell_type": "code",
      "execution_count": null,
      "metadata": {
        "collapsed": true
      },
      "outputs": [],
      "source": [
        "# Basic For Loop with a List\n",
        "# This will print each fruit in the fruits list.\n",
        "fruits = ['apple', 'banana', 'cherry']\n",
        "for fruit in fruits:\n",
        "    print(fruit)"
      ]
    },
    {
      "cell_type": "markdown",
      "metadata": {
        "collapsed": true
      },
      "source": [
        "In the above example, `for fruit in fruits:` creates a loop that executes its body (`print(fruit)`) once for each item in `fruits` list."
      ]
    },
    {
      "cell_type": "code",
      "execution_count": null,
      "metadata": {
        "collapsed": true
      },
      "outputs": [],
      "source": [
        "# For Loop with Range Function\n",
        "# This will print numbers from 0 to 4.\n",
        "for i in range(5):\n",
        "    print(i)"
      ]
    },
    {
      "cell_type": "markdown",
      "metadata": {},
      "source": [
        "Here, `range(5)` generates a sequence of numbers from 0 to 4, and the loop prints each number."
      ]
    },
    {
      "cell_type": "code",
      "execution_count": null,
      "metadata": {
        "collapsed": true
      },
      "outputs": [],
      "source": [
        "# Using For Loop with Strings\n",
        "# This will print each character in the string.\n",
        "word = 'Hello'\n",
        "for letter in word:\n",
        "    print(letter)"
      ]
    },
    {
      "cell_type": "markdown",
      "metadata": {},
      "source": [
        "Strings are also iterable in Python, and this loop prints each character in the string `Hello`."
      ]
    },
    {
      "cell_type": "code",
      "execution_count": null,
      "metadata": {
        "collapsed": true
      },
      "outputs": [],
      "source": [
        "# Nested For Loops\n",
        "# This will print a pattern of numbers.\n",
        "for i in range(1, 4):\n",
        "    for j in range(i):\n",
        "        print(i, end=' ')\n",
        "    print()"
      ]
    },
    {
      "cell_type": "markdown",
      "metadata": {},
      "source": [
        "Nested loops are loops inside a loop. The inner loop (`for j in range(i):`) is executed completely each time the outer loop (`for i in range(1, 4):`) executes."
      ]
    },
    {
      "cell_type": "code",
      "execution_count": null,
      "metadata": {
        "collapsed": true
      },
      "outputs": [],
      "source": [
        "# Using Break in For Loop\n",
        "# This will stop the loop when it finds 'banana'.\n",
        "fruits = ['apple', 'banana', 'cherry']\n",
        "for fruit in fruits:\n",
        "    if fruit == 'banana':\n",
        "        print('Banana found! Stopping the loop.')\n",
        "        break\n",
        "    print(fruit)"
      ]
    },
    {
      "cell_type": "markdown",
      "metadata": {},
      "source": [
        "The `break` statement in the loop stops the loop when it encounters 'banana'."
      ]
    },
    {
      "cell_type": "code",
      "execution_count": null,
      "metadata": {
        "collapsed": true
      },
      "outputs": [],
      "source": [
        "# Using Continue in For Loop\n",
        "# This will skip 'banana' and continue with the next iterations.\n",
        "fruits = ['apple', 'banana', 'cherry']\n",
        "for fruit in fruits:\n",
        "    if fruit == 'banana':\n",
        "        print('Skipping banana')\n",
        "        continue\n",
        "    print(fruit)"
      ]
    },
    {
      "cell_type": "markdown",
      "metadata": {},
      "source": [
        "The `continue` statement skips the current iteration of the loop and continues with the next iteration."
      ]
    },
    {
      "cell_type": "code",
      "execution_count": null,
      "metadata": {
        "collapsed": true
      },
      "outputs": [],
      "source": [
        "# For Loop with Else\n",
        "# The else part is executed after the loop completes normally.\n",
        "for i in range(3):\n",
        "    print(i)\n",
        "else:\n",
        "    print('Loop finished')"
      ]
    },
    {
      "cell_type": "markdown",
      "metadata": {},
      "source": [
        "The `else` block is executed after the for loop completes its execution unless it is terminated by a `break` statement."
      ]
    }
  ],
  "metadata": {
    "kernelspec": {
      "display_name": "Python 3",
      "language": "python",
      "name": "python3"
    },
    "language_info": {
      "codemirror_mode": {
        "name": "ipython",
        "version": 3
      },
      "file_extension": ".py",
      "mimetype": "text/x-python",
      "name": "python",
      "nbconvert_exporter": "python",
      "pygments_lexer": "ipython3",
      "version": "3.8.5"
    }
  },
  "nbformat": 4,
  "nbformat_minor": 2
}
