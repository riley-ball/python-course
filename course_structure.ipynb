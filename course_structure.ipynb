{
 "cells": [
  {
   "attachments": {},
   "cell_type": "markdown",
   "metadata": {},
   "source": [
    "Week 1: Introduction to Python\n",
    "\n",
    "Lesson: Introduction to Python and its history, installing Python and setting up the development environment.\n",
    "\n",
    "Activity: Dive into Python by setting up your environment and running a special \"Python's Greeting!\" program. This program could introduce a Super Smash Bros. character or a Dungeons & Dragons hero of your choice! For instance, you could make Python greet you with \"Hello, warrior! Ready to embark on an adventure with Link (or your favorite character) today?\" As an alternative, you could program Python to tell a joke or riddle related to your favorite game. This exciting start will set the tone for our game-themed Python journey!"
   ]
  },
  {
   "cell_type": "code",
   "execution_count": 7,
   "metadata": {},
   "outputs": [
    {
     "name": "stdout",
     "output_type": "stream",
     "text": [
      "Hello, warrior! Ready to embark on an adventure with  today?\n"
     ]
    }
   ],
   "source": [
    "# Ask the user for their favorite character\n",
    "character = input(\"Who is your favorite Super Smash Bros. character or D&D hero? \")\n",
    "\n",
    "# Print a greeting message\n",
    "print(\"Hello, warrior! Ready to embark on an adventure with \" + character + \" today?\")"
   ]
  },
  {
   "cell_type": "markdown",
   "metadata": {},
   "source": []
  },
  {
   "attachments": {},
   "cell_type": "markdown",
   "metadata": {},
   "source": [
    "# Week 2: Data Types and Variables\n",
    "\n",
    "**Lesson:** Basic data types (strings, integers, floats, booleans), defining and using variables.\n",
    "\n",
    "**Activity:** Develop a program that simulates a short adventure with your favorite Super Smash Bros. character or D&D hero using user input and variables. Alternatively, create a trivia quiz about Super Smash Bros. or D&D facts using various data types.\n",
    "\n",
    "---\n",
    "\n",
    "## Example Activity for Week 2:\n",
    "\n",
    "### Activity: \"Adventure Story\" Program\n",
    "\n",
    "In this Jupyter notebook, you're going to write a program that asks the user for their favorite character, their weapon of choice, and the number of enemies they would like to face in a fictitious battle.\n",
    "\n",
    "```python\n",
    "# Ask the user for their favorite character and weapon\n",
    "character = input(\"Who is your favorite Super Smash Bros. character or D&D hero? \")\n",
    "weapon = input(f\"What weapon will {character} use in the adventure? \")\n",
    "\n",
    "# Ask the user for the number of enemies they want to face\n",
    "enemy_count = input(f\"How many enemies do you want {character} to face? \")\n",
    "\n",
    "# Print an adventure story\n",
    "print(\"\\nGreat! Here's your adventure:\")\n",
    "print(f\"{character} grabs a {weapon} and prepares to face {enemy_count} enemies. Good luck, brave warrior!\")\n",
    "```\n",
    "\n",
    "Run the code cell above. When you execute it, it will ask for your favorite game character, weapon, and the number of enemies, and then print a fun adventure story based on your inputs.\n",
    "\n",
    "---\n",
    "\n",
    "This activity introduces the concept of using different data types (strings and integers) and combining them to form a cohesive output. It adds a touch of fun by integrating elements from their favorite games."
   ]
  },
  {
   "cell_type": "code",
   "execution_count": null,
   "metadata": {},
   "outputs": [],
   "source": []
  },
  {
   "cell_type": "code",
   "execution_count": 1,
   "metadata": {},
   "outputs": [
    {
     "name": "stdout",
     "output_type": "stream",
     "text": [
      "One day,  was walking through the forest and met a . They quickly became friends and had a picnic with lots of . They had a great time!\n"
     ]
    }
   ],
   "source": [
    "# Activity: Storytelling program\n",
    "name = input(\"What's your name? \")\n",
    "animal = input(\"What's your favorite animal? \")\n",
    "food = input(\"What's your favorite food? \")\n",
    "\n",
    "story = f\"One day, {name} was walking through the forest and met a {animal}. They quickly became friends and had a picnic with lots of {food}. They had a great time!\"\n",
    "\n",
    "print(story)"
   ]
  },
  {
   "attachments": {},
   "cell_type": "markdown",
   "metadata": {},
   "source": [
    "Week 3: Conditional Statements and Loops\n",
    "\n",
    "Lesson: Comparison operators, if-elif-else statements, basic loops (for and while)\n",
    "Activity: Create a personalized adventure story using conditional statements, where the narrative changes based on user choices. Alternatively, build a fun number guessing game using loops."
   ]
  },
  {
   "cell_type": "code",
   "execution_count": 2,
   "metadata": {},
   "outputs": [
    {
     "name": "stdout",
     "output_type": "stream",
     "text": [
      "You are in a dark forest. There are two paths ahead of you.\n",
      "Invalid choice! Try again.\n"
     ]
    },
    {
     "ename": "ValueError",
     "evalue": "invalid literal for int() with base 10: ''",
     "output_type": "error",
     "traceback": [
      "\u001b[1;31m---------------------------------------------------------------------------\u001b[0m",
      "\u001b[1;31mValueError\u001b[0m                                Traceback (most recent call last)",
      "Cell \u001b[1;32mIn[2], line 16\u001b[0m\n\u001b[0;32m     13\u001b[0m \u001b[39mimport\u001b[39;00m \u001b[39mrandom\u001b[39;00m\n\u001b[0;32m     15\u001b[0m number_to_guess \u001b[39m=\u001b[39m random\u001b[39m.\u001b[39mrandint(\u001b[39m1\u001b[39m, \u001b[39m10\u001b[39m)\n\u001b[1;32m---> 16\u001b[0m guess \u001b[39m=\u001b[39m \u001b[39mint\u001b[39;49m(\u001b[39minput\u001b[39;49m(\u001b[39m\"\u001b[39;49m\u001b[39mGuess a number between 1 and 10: \u001b[39;49m\u001b[39m\"\u001b[39;49m))\n\u001b[0;32m     18\u001b[0m \u001b[39mwhile\u001b[39;00m guess \u001b[39m!=\u001b[39m number_to_guess:\n\u001b[0;32m     19\u001b[0m     guess \u001b[39m=\u001b[39m \u001b[39mint\u001b[39m(\u001b[39minput\u001b[39m(\u001b[39m\"\u001b[39m\u001b[39mWrong guess. Try again: \u001b[39m\u001b[39m\"\u001b[39m))\n",
      "\u001b[1;31mValueError\u001b[0m: invalid literal for int() with base 10: ''"
     ]
    }
   ],
   "source": [
    "# Activity: Personalized Adventure Story\n",
    "print(\"You are in a dark forest. There are two paths ahead of you.\")\n",
    "choice = input(\"Do you choose the left path or the right path? (left/right) \")\n",
    "\n",
    "if choice.lower() == 'left':\n",
    "    print(\"You encounter a friendly unicorn!\")\n",
    "elif choice.lower() == 'right':\n",
    "    print(\"You come across a treasure chest!\")\n",
    "else:\n",
    "    print(\"Invalid choice! Try again.\")\n",
    "\n",
    "# Activity: Number Guessing Game\n",
    "import random\n",
    "\n",
    "number_to_guess = random.randint(1, 10)\n",
    "guess = int(input(\"Guess a number between 1 and 10: \"))\n",
    "\n",
    "while guess != number_to_guess:\n",
    "    guess = int(input(\"Wrong guess. Try again: \"))\n",
    "\n",
    "print(\"Congratulations! You guessed the number.\")"
   ]
  },
  {
   "attachments": {},
   "cell_type": "markdown",
   "metadata": {},
   "source": [
    "Week 4: Lists and Tuples\n",
    "\n",
    "Lesson: Lists, tuples and their methods, indexing and slicing, nested data structures\n",
    "Activity: Design a program that simulates a magic 8-ball using lists. Or, create a simple program that manages a list of favorite songs or movies."
   ]
  },
  {
   "cell_type": "code",
   "execution_count": 3,
   "metadata": {},
   "outputs": [
    {
     "name": "stdout",
     "output_type": "stream",
     "text": [
      "The Magic 8-Ball says: Maybe\n"
     ]
    }
   ],
   "source": [
    "# Activity: Magic 8-ball program\n",
    "import random\n",
    "\n",
    "answers = ['Yes', 'No', 'Maybe', 'Ask again later', 'Absolutely', 'Not in a million years']\n",
    "\n",
    "question = input(\"Ask the Magic 8-Ball a question: \")\n",
    "\n",
    "print(\"The Magic 8-Ball says:\", random.choice(answers))"
   ]
  },
  {
   "attachments": {},
   "cell_type": "markdown",
   "metadata": {},
   "source": [
    "Week 5: Functions and Modules\n",
    "\n",
    "Lesson: Defining and calling functions, function parameters, return values, importing modules\n",
    "Activity: Develop a fortune-telling application using functions and Python's random module. Alternatively, build a joke generator that delivers random joke"
   ]
  },
  {
   "cell_type": "code",
   "execution_count": 4,
   "metadata": {},
   "outputs": [
    {
     "name": "stdout",
     "output_type": "stream",
     "text": [
      "Adventure is waiting for you around the corner.\n"
     ]
    }
   ],
   "source": [
    "# Import the random module\n",
    "import random\n",
    "\n",
    "# Define a list of fortunes\n",
    "fortunes = [\n",
    "    \"You will have a great day!\",\n",
    "    \"Something unexpected will happen.\",\n",
    "    \"You will make a new friend soon.\",\n",
    "    \"Adventure is waiting for you around the corner.\",\n",
    "    \"A pleasant surprise is waiting for you.\"\n",
    "]\n",
    "\n",
    "# Define a function to get a random fortune\n",
    "def get_fortune(fortune_list):\n",
    "    return random.choice(fortune_list)\n",
    "\n",
    "# Test the function\n",
    "print(get_fortune(fortunes))\n"
   ]
  },
  {
   "attachments": {},
   "cell_type": "markdown",
   "metadata": {},
   "source": [
    "Week 6: File Handling\n",
    "\n",
    "Lesson: Reading and writing files, file modes, working with paths.\n",
    "\n",
    "Activity: Engage in some Super Smash Bros. fun by developing a program that tracks your favorite Super Smash Bros. characters and saves them to a text file. You can add characters, view your list, and even remove characters! For those who want a bit more challenge, you could add features like character stats or ranking. This activity helps you understand how to handle files by reading from and writing to them, and is a great step into managing data in a fun, game-themed way."
   ]
  },
  {
   "cell_type": "code",
   "execution_count": 6,
   "metadata": {},
   "outputs": [],
   "source": [
    "# Function to add a character\n",
    "def add_character():\n",
    "    character_name = input(\"Enter the character's name: \")\n",
    "    with open('characters.txt', 'a') as file:\n",
    "        file.write(character_name + \"\\n\")\n",
    "    print(f\"{character_name} has been added to your list!\")\n",
    "\n",
    "# Function to view the characters\n",
    "def view_characters():\n",
    "    print(\"Your characters:\")\n",
    "    with open('characters.txt', 'r') as file:\n",
    "        print(file.read())\n",
    "\n",
    "# Main program\n",
    "while False:\n",
    "    print(\"\\n1. Add a character\\n2. View characters\\n3. Quit\")\n",
    "    choice = input(\"Choose an option: \")\n",
    "    if choice == '1':\n",
    "        add_character()\n",
    "    elif choice == '2':\n",
    "        view_characters()\n",
    "    elif choice == '3':\n",
    "        break\n",
    "    else:\n",
    "        print(\"Invalid choice. Please try again.\")"
   ]
  },
  {
   "attachments": {},
   "cell_type": "markdown",
   "metadata": {},
   "source": [
    "Week 7: Exceptions and Error Handling\n",
    "\n",
    "Lesson: Understanding different types of errors, exception handling (try, except, else, finally)\n",
    "Activity: Build a program that simulates a tricky maze, and handle errors when the user chooses the wrong path. Or, create a program that performs calculations and handles exceptions when invalid inputs are entered."
   ]
  },
  {
   "attachments": {},
   "cell_type": "markdown",
   "metadata": {},
   "source": [
    "Week 8: Dictionaries and Sets\n",
    "\n",
    "Lesson: Introduction to dictionaries, sets and their methods, iterating through dictionaries and sets\n",
    "Activity: Design a treasure hunt game using dictionaries to store clues. Alternatively, create a simple language translation program with a fun twist like a \"pirate speak\" translator."
   ]
  },
  {
   "attachments": {},
   "cell_type": "markdown",
   "metadata": {},
   "source": [
    "Week 9: Classes and Objects\n",
    "\n",
    "Lesson: Object-oriented programming (OOP) concepts, defining classes, creating objects, constructors, methods, attributes\n",
    "Activity: Design a virtual pet game where each pet object can perform different actions like eat, sleep, or play. Or, create a fantasy game with different character classes (like wizards, warriors, and rogues)."
   ]
  },
  {
   "attachments": {},
   "cell_type": "markdown",
   "metadata": {},
   "source": [
    "Week 10: Inheritance and Polymorphism\n",
    "\n",
    "Lesson: Inheritance, polymorphism, method overriding, multiple inheritance, and super()\n",
    "Activity: Design a zoo or a fantasy world simulation with different animal or creature classes inheriting from a base class, demonstrating polymorphism. Or, create a simple race game with different vehicle classes."
   ]
  },
  {
   "attachments": {},
   "cell_type": "markdown",
   "metadata": {},
   "source": [
    "Week 11: Modules and Libraries\n",
    "\n",
    "Lesson: Introduction to Python's standard library, creating and using custom modules, using external libraries\n",
    "Activity: Create a program that uses external libraries to draw different shapes or colors (like a virtual art canvas). Or, build a simple chatbot that can talk about favorite subjects."
   ]
  },
  {
   "attachments": {},
   "cell_type": "markdown",
   "metadata": {},
   "source": [
    "Week 12: Final Project and Wrap-up\n",
    "\n",
    "Lesson: Review of the entire course, tips on further learning, Python community resources\n",
    "Activity: Students work on a final project of their choice, such as a personalized adventure game, a superhero generator, a virtual garden, or a simple music maker. Students present their projects"
   ]
  }
 ],
 "metadata": {
  "kernelspec": {
   "display_name": "Python 3",
   "language": "python",
   "name": "python3"
  },
  "language_info": {
   "codemirror_mode": {
    "name": "ipython",
    "version": 3
   },
   "file_extension": ".py",
   "mimetype": "text/x-python",
   "name": "python",
   "nbconvert_exporter": "python",
   "pygments_lexer": "ipython3",
   "version": "3.11.3"
  },
  "orig_nbformat": 4
 },
 "nbformat": 4,
 "nbformat_minor": 2
}
